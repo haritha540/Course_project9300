{
  "nbformat": 4,
  "nbformat_minor": 0,
  "metadata": {
    "colab": {
      "name": "Datascraping using tweepy.ipynb",
      "provenance": []
    },
    "kernelspec": {
      "name": "python3",
      "display_name": "Python 3"
    },
    "language_info": {
      "name": "python"
    },
    "accelerator": "GPU"
  },
  "cells": [
    {
      "cell_type": "code",
      "execution_count": 8,
      "metadata": {
        "colab": {
          "base_uri": "https://localhost:8080/"
        },
        "id": "CBPXUyMeHggx",
        "outputId": "533db09f-ca89-4cdb-bae1-38885e70fa1e"
      },
      "outputs": [
        {
          "output_type": "execute_result",
          "data": {
            "text/plain": [
              "['/content/twitter.txt']"
            ]
          },
          "metadata": {},
          "execution_count": 8
        }
      ],
      "source": [
        "import configparser\n",
        "config=configparser.RawConfigParser()\n",
        "config.read(filenames='/content/twitter.txt')"
      ]
    },
    {
      "cell_type": "code",
      "source": [
        "!pip install tweepy\n"
      ],
      "metadata": {
        "colab": {
          "base_uri": "https://localhost:8080/"
        },
        "id": "_MxcdpQRJJW4",
        "outputId": "b61fd479-8fc0-4380-a445-eea43cd8bbf5"
      },
      "execution_count": 9,
      "outputs": [
        {
          "output_type": "stream",
          "name": "stdout",
          "text": [
            "Requirement already satisfied: tweepy in /usr/local/lib/python3.7/dist-packages (3.10.0)\n",
            "Requirement already satisfied: requests[socks]>=2.11.1 in /usr/local/lib/python3.7/dist-packages (from tweepy) (2.23.0)\n",
            "Requirement already satisfied: six>=1.10.0 in /usr/local/lib/python3.7/dist-packages (from tweepy) (1.15.0)\n",
            "Requirement already satisfied: requests-oauthlib>=0.7.0 in /usr/local/lib/python3.7/dist-packages (from tweepy) (1.3.1)\n",
            "Requirement already satisfied: oauthlib>=3.0.0 in /usr/local/lib/python3.7/dist-packages (from requests-oauthlib>=0.7.0->tweepy) (3.2.0)\n",
            "Requirement already satisfied: idna<3,>=2.5 in /usr/local/lib/python3.7/dist-packages (from requests[socks]>=2.11.1->tweepy) (2.10)\n",
            "Requirement already satisfied: urllib3!=1.25.0,!=1.25.1,<1.26,>=1.21.1 in /usr/local/lib/python3.7/dist-packages (from requests[socks]>=2.11.1->tweepy) (1.24.3)\n",
            "Requirement already satisfied: chardet<4,>=3.0.2 in /usr/local/lib/python3.7/dist-packages (from requests[socks]>=2.11.1->tweepy) (3.0.4)\n",
            "Requirement already satisfied: certifi>=2017.4.17 in /usr/local/lib/python3.7/dist-packages (from requests[socks]>=2.11.1->tweepy) (2021.10.8)\n",
            "Requirement already satisfied: PySocks!=1.5.7,>=1.5.6 in /usr/local/lib/python3.7/dist-packages (from requests[socks]>=2.11.1->tweepy) (1.7.1)\n"
          ]
        }
      ]
    },
    {
      "cell_type": "code",
      "source": [
        "import tweepy as tw"
      ],
      "metadata": {
        "id": "dK3QvfsmJLkn"
      },
      "execution_count": 10,
      "outputs": []
    },
    {
      "cell_type": "code",
      "source": [
        "accesstoken=config.get('twitter','accesstoken')"
      ],
      "metadata": {
        "id": "5wzLR2SlJPPq"
      },
      "execution_count": 11,
      "outputs": []
    },
    {
      "cell_type": "code",
      "source": [
        "accesstokensecret=config.get('twitter','accesstokensecret')\n",
        "apikey=config.get('twitter','apikey')\n",
        "apisecretkey=config.get('twitter','apisecretkey')"
      ],
      "metadata": {
        "id": "p28dGZgeJXG3"
      },
      "execution_count": 12,
      "outputs": []
    },
    {
      "cell_type": "code",
      "source": [
        "auth=tw.OAuthHandler(apikey,apisecretkey)"
      ],
      "metadata": {
        "id": "2LJxd2-OJkd_"
      },
      "execution_count": 13,
      "outputs": []
    },
    {
      "cell_type": "code",
      "source": [
        "auth.set_access_token(accesstoken,accesstokensecret)"
      ],
      "metadata": {
        "id": "aA5hYnPhJqv-"
      },
      "execution_count": 14,
      "outputs": []
    },
    {
      "cell_type": "code",
      "source": [
        "api=tw.API(auth,wait_on_rate_limit=True)"
      ],
      "metadata": {
        "id": "wFKq8mDLJwoU"
      },
      "execution_count": 15,
      "outputs": []
    },
    {
      "cell_type": "code",
      "source": [
        "search_word='#COVID-19 vaccine' \n",
        "date_since='2021-05-28'"
      ],
      "metadata": {
        "id": "iIAFJmMyJ2bi"
      },
      "execution_count": 31,
      "outputs": []
    },
    {
      "cell_type": "code",
      "source": [
        "tweets=tw.Cursor(api.search,q=search_word,lang='en',since=date_since).items(1000)"
      ],
      "metadata": {
        "id": "fWeUgwxeKZ_-"
      },
      "execution_count": 32,
      "outputs": []
    },
    {
      "cell_type": "code",
      "source": [
        "tweets"
      ],
      "metadata": {
        "colab": {
          "base_uri": "https://localhost:8080/"
        },
        "id": "nvu4JQlSMvUA",
        "outputId": "c44074d9-e35d-41c7-bf05-67fe8e046e42"
      },
      "execution_count": 33,
      "outputs": [
        {
          "output_type": "execute_result",
          "data": {
            "text/plain": [
              "<tweepy.cursor.ItemIterator at 0x7f6e79836cd0>"
            ]
          },
          "metadata": {},
          "execution_count": 33
        }
      ]
    },
    {
      "cell_type": "code",
      "source": [
        "tweet_details = [[tweet.geo,tweet.text,tweet.user.screen_name,tweet.user.location]for tweet in tweets]\n",
        "tweet_details"
      ],
      "metadata": {
        "id": "G-COakF9KtW5"
      },
      "execution_count": null,
      "outputs": []
    },
    {
      "cell_type": "code",
      "source": [
        "import pandas as pd\n",
        "tweet_df=pd.DataFrame(data=tweet_details,columns=['geo','text','user','location'])\n",
        "pd.set_option('max_colwidth',800)\n",
        "tweet_df.head(20)"
      ],
      "metadata": {
        "colab": {
          "base_uri": "https://localhost:8080/",
          "height": 1000
        },
        "id": "tr8XcAhIM7a6",
        "outputId": "c9e6671b-4183-445d-f778-525d5b3fe04b"
      },
      "execution_count": 29,
      "outputs": [
        {
          "output_type": "execute_result",
          "data": {
            "text/html": [
              "\n",
              "  <div id=\"df-331f4480-3f3f-417c-b7b1-bdf8a635643b\">\n",
              "    <div class=\"colab-df-container\">\n",
              "      <div>\n",
              "<style scoped>\n",
              "    .dataframe tbody tr th:only-of-type {\n",
              "        vertical-align: middle;\n",
              "    }\n",
              "\n",
              "    .dataframe tbody tr th {\n",
              "        vertical-align: top;\n",
              "    }\n",
              "\n",
              "    .dataframe thead th {\n",
              "        text-align: right;\n",
              "    }\n",
              "</style>\n",
              "<table border=\"1\" class=\"dataframe\">\n",
              "  <thead>\n",
              "    <tr style=\"text-align: right;\">\n",
              "      <th></th>\n",
              "      <th>geo</th>\n",
              "      <th>text</th>\n",
              "      <th>user</th>\n",
              "      <th>location</th>\n",
              "      <th>followers</th>\n",
              "    </tr>\n",
              "  </thead>\n",
              "  <tbody>\n",
              "    <tr>\n",
              "      <th>0</th>\n",
              "      <td>None</td>\n",
              "      <td>RT @HongliKong: Please let us know the death toll by so called Covid-19 vaccine ? https://t.co/qhBfWASV2Y</td>\n",
              "      <td>vwengui</td>\n",
              "      <td>Bulla, Victoria</td>\n",
              "      <td>&lt;bound method User.followers of User(_api=&lt;tweepy.api.API object at 0x7f6e838a4290&gt;, _json={'id': 913689857246953472, 'id_str': '913689857246953472', 'name': '不老仙（澳喜特战旅）', 'screen_name': 'vwengui', 'location': 'Bulla, Victoria', 'description': '反共药方：戒急用忍，步步为营 Hydroxychloroquine 挺郭不仅仅是权力更是义务。 反共需要实力，更要保护好自己和家人的安全。 “美国不是世界警察”--唐纳德·约翰·特朗普 无奈的是身体和力量，强大的是意志和信仰；只有坚持不灭的信仰，才能创造不朽的传奇。（珍珠港）', 'url': None, 'entities': {'description': {'urls': []}}, 'protected': False, 'followers_count': 242, 'friends_count': 393, 'listed_count': 3, 'created_at': 'Fri Sep 29 09:00:12 +0000 2017', 'favourites_count': 1071, 'utc_offset': None, 'time_zone': None, 'geo_enabled': False, 'verified': False, 'statuses_count': 20955, 'lang': None, 'contributors_enabled': False, 'is_translator': False, 'is_translation_enabl...</td>\n",
              "    </tr>\n",
              "    <tr>\n",
              "      <th>1</th>\n",
              "      <td>None</td>\n",
              "      <td>RT @McMasterU: \"Health-care providers, public health organizations and community leaders should be a positive force in vaccination.\" Zain C…</td>\n",
              "      <td>kargor</td>\n",
              "      <td>Toronto</td>\n",
              "      <td>&lt;bound method User.followers of User(_api=&lt;tweepy.api.API object at 0x7f6e838a4290&gt;, _json={'id': 22709612, 'id_str': '22709612', 'name': 'karen gordon🇺🇦🇺🇦🇨🇦', 'screen_name': 'kargor', 'location': 'Toronto', 'description': 'Movies :@original-cin.ca @TFCA @BFCA @AWFJ. Writer/story editor Documentary tv/ GS &amp; IMAX, Strategic Communications/Marketing Content Creator/\\n Neurodivergent', 'url': None, 'entities': {'description': {'urls': []}}, 'protected': False, 'followers_count': 2143, 'friends_count': 5001, 'listed_count': 50, 'created_at': 'Wed Mar 04 00:56:04 +0000 2009', 'favourites_count': 50272, 'utc_offset': None, 'time_zone': None, 'geo_enabled': True, 'verified': False, 'statuses_count': 32118, 'lang': None, 'contributors_enabled': False, 'is_translator': False, 'is_translation_en...</td>\n",
              "    </tr>\n",
              "    <tr>\n",
              "      <th>2</th>\n",
              "      <td>None</td>\n",
              "      <td>RT @StrategicThghts: #bcpoli Lock him up!\\nFreedom convoy organizer James Bauder announces plans for large convoy to Victoria to fight vacci…</td>\n",
              "      <td>PeterKellyBC</td>\n",
              "      <td>Vancouver Island, BC</td>\n",
              "      <td>&lt;bound method User.followers of User(_api=&lt;tweepy.api.API object at 0x7f6e838a4290&gt;, _json={'id': 16135612, 'id_str': '16135612', 'name': 'Peter Kelly 🇺🇦🇨🇦', 'screen_name': 'PeterKellyBC', 'location': 'Vancouver Island, BC', 'description': \"Parent. Political. Ally 🏳️\\u200d🌈🏳️\\u200d⚧️. Mostly partisan.\\nFollows, Likes/Retweets ≠ endorsement. Don't add me to your lists. He/Him. genX #getvaxxednow\", 'url': 'https://t.co/e2MkECRHZo', 'entities': {'url': {'urls': [{'url': 'https://t.co/e2MkECRHZo', 'expanded_url': 'https://theviewfrompete.com', 'display_url': 'theviewfrompete.com', 'indices': [0, 23]}]}, 'description': {'urls': []}}, 'protected': False, 'followers_count': 2818, 'friends_count': 2817, 'listed_count': 62, 'created_at': 'Thu Sep 04 21:26:35 +0000 2008', 'favourites_count': 408...</td>\n",
              "    </tr>\n",
              "    <tr>\n",
              "      <th>3</th>\n",
              "      <td>None</td>\n",
              "      <td>Pfizer’s COVID-19 Vaccine Goes Into Liver Cells and Is Converted to DNA !\\nhttps://t.co/hH2CZPaFok</td>\n",
              "      <td>MarcelDugenoux</td>\n",
              "      <td></td>\n",
              "      <td>&lt;bound method User.followers of User(_api=&lt;tweepy.api.API object at 0x7f6e838a4290&gt;, _json={'id': 724904563166302208, 'id_str': '724904563166302208', 'name': '\\U0001f7e5 Marcel Dugenoux', 'screen_name': 'MarcelDugenoux', 'location': '', 'description': 'Contre la concurrence et la domination\\nContre le pouvoir patriarcal de classe\\nContre la défausse des responsabilités sur les carriéristes politiques', 'url': None, 'entities': {'description': {'urls': []}}, 'protected': False, 'followers_count': 163, 'friends_count': 29, 'listed_count': 0, 'created_at': 'Tue Apr 26 10:14:50 +0000 2016', 'favourites_count': 24514, 'utc_offset': None, 'time_zone': None, 'geo_enabled': False, 'verified': False, 'statuses_count': 10936, 'lang': None, 'contributors_enabled': False, 'is_translator': False, '...</td>\n",
              "    </tr>\n",
              "    <tr>\n",
              "      <th>4</th>\n",
              "      <td>None</td>\n",
              "      <td>RT @BreannaMorello: Last month, I resigned from my role as a producer for Fox Corp after they decided to comply with the NYC mayor’s vaccin…</td>\n",
              "      <td>BeverlyGreg</td>\n",
              "      <td>winnipeg mb</td>\n",
              "      <td>&lt;bound method User.followers of User(_api=&lt;tweepy.api.API object at 0x7f6e838a4290&gt;, _json={'id': 1350563185, 'id_str': '1350563185', 'name': '52ndstreet', 'screen_name': 'BeverlyGreg', 'location': 'winnipeg mb', 'description': \"I enjoy my family, cooking, social media, and watching the news. life wouldn't be exciting without Music, this makes the world go around. Movies add richness..\", 'url': None, 'entities': {'description': {'urls': []}}, 'protected': False, 'followers_count': 575, 'friends_count': 517, 'listed_count': 22, 'created_at': 'Sun Apr 14 00:10:44 +0000 2013', 'favourites_count': 112418, 'utc_offset': None, 'time_zone': None, 'geo_enabled': True, 'verified': False, 'statuses_count': 12917, 'lang': None, 'contributors_enabled': False, 'is_translator': False, 'is_translatio...</td>\n",
              "    </tr>\n",
              "    <tr>\n",
              "      <th>5</th>\n",
              "      <td>None</td>\n",
              "      <td>RT @7NewsAustralia: Vaccine mandates have been scrapped for South Australia Police employees, clearing the way for officers who refused to…</td>\n",
              "      <td>sabthehorrible</td>\n",
              "      <td></td>\n",
              "      <td>&lt;bound method User.followers of User(_api=&lt;tweepy.api.API object at 0x7f6e838a4290&gt;, _json={'id': 2586841758, 'id_str': '2586841758', 'name': 'Sat Stacker ∞/21M', 'screen_name': 'sabthehorrible', 'location': '', 'description': '#bitcoin', 'url': None, 'entities': {'description': {'urls': []}}, 'protected': False, 'followers_count': 568, 'friends_count': 1029, 'listed_count': 16, 'created_at': 'Wed Jun 25 04:34:24 +0000 2014', 'favourites_count': 81450, 'utc_offset': None, 'time_zone': None, 'geo_enabled': False, 'verified': False, 'statuses_count': 19092, 'lang': None, 'contributors_enabled': False, 'is_translator': False, 'is_translation_enabled': False, 'profile_background_color': 'C0DEED', 'profile_background_image_url': 'http://abs.twimg.com/images/themes/theme1/bg.png', 'profile_b...</td>\n",
              "    </tr>\n",
              "    <tr>\n",
              "      <th>6</th>\n",
              "      <td>None</td>\n",
              "      <td>#bcpoli Lock him up!\\nFreedom convoy organizer James Bauder announces plans for large convoy to Victoria to fight va… https://t.co/y9WRGlGt6h</td>\n",
              "      <td>StrategicThghts</td>\n",
              "      <td>North Vancouver, BC</td>\n",
              "      <td>&lt;bound method User.followers of User(_api=&lt;tweepy.api.API object at 0x7f6e838a4290&gt;, _json={'id': 207612347, 'id_str': '207612347', 'name': 'David Schreck', 'screen_name': 'StrategicThghts', 'location': 'North Vancouver, BC', 'description': 'Retired economist and politician, active political pundit.', 'url': 'http://t.co/kfVb4AivRq', 'entities': {'url': {'urls': [{'url': 'http://t.co/kfVb4AivRq', 'expanded_url': 'http://www.StrategicThoughts.com', 'display_url': 'StrategicThoughts.com', 'indices': [0, 22]}]}, 'description': {'urls': []}}, 'protected': False, 'followers_count': 5389, 'friends_count': 1366, 'listed_count': 167, 'created_at': 'Mon Oct 25 17:33:13 +0000 2010', 'favourites_count': 193, 'utc_offset': None, 'time_zone': None, 'geo_enabled': True, 'verified': False, 'statuses_...</td>\n",
              "    </tr>\n",
              "    <tr>\n",
              "      <th>7</th>\n",
              "      <td>None</td>\n",
              "      <td>@LaughlandMorgan @CatsLoveBoxes @TierraHenson @sammk1964 @JCDeardeuff @moy_barry @F250Roush @LizaGirl63… https://t.co/QaNYkd6sST</td>\n",
              "      <td>Chris_F_Carson</td>\n",
              "      <td>Australia</td>\n",
              "      <td>&lt;bound method User.followers of User(_api=&lt;tweepy.api.API object at 0x7f6e838a4290&gt;, _json={'id': 3178688418, 'id_str': '3178688418', 'name': 'Christine Carson', 'screen_name': 'Chris_F_Carson', 'location': 'Australia', 'description': 'microbiologist phd\\nscience communicator\\npassionate about research funding\\nviews very much my own', 'url': None, 'entities': {'description': {'urls': []}}, 'protected': False, 'followers_count': 558, 'friends_count': 525, 'listed_count': 13, 'created_at': 'Wed Apr 29 01:39:14 +0000 2015', 'favourites_count': 7731, 'utc_offset': None, 'time_zone': None, 'geo_enabled': False, 'verified': False, 'statuses_count': 41243, 'lang': None, 'contributors_enabled': False, 'is_translator': False, 'is_translation_enabled': False, 'profile_background_color': 'C0DEED...</td>\n",
              "    </tr>\n",
              "    <tr>\n",
              "      <th>8</th>\n",
              "      <td>None</td>\n",
              "      <td>RT @NHS_Lothian: If you’re aged 16 or 17 years and have had your first and second dose of the COVID-19 vaccine, you should now book your bo…</td>\n",
              "      <td>BAMERECAP</td>\n",
              "      <td>Edinburgh, Scotland</td>\n",
              "      <td>&lt;bound method User.followers of User(_api=&lt;tweepy.api.API object at 0x7f6e838a4290&gt;, _json={'id': 1442211628309569536, 'id_str': '1442211628309569536', 'name': 'ELREC BAME RECAP', 'screen_name': 'BAMERECAP', 'location': 'Edinburgh, Scotland', 'description': 'Working towards restoring the livelihoods of BAME communities affected by Covid-19 in Edinburgh &amp; the Lothians #BAMERECAP . A project of @ELRECUK', 'url': None, 'entities': {'description': {'urls': []}}, 'protected': False, 'followers_count': 18, 'friends_count': 54, 'listed_count': 0, 'created_at': 'Sun Sep 26 19:37:24 +0000 2021', 'favourites_count': 41, 'utc_offset': None, 'time_zone': None, 'geo_enabled': False, 'verified': False, 'statuses_count': 27, 'lang': None, 'contributors_enabled': False, 'is_translator': False, 'is_tra...</td>\n",
              "    </tr>\n",
              "    <tr>\n",
              "      <th>9</th>\n",
              "      <td>None</td>\n",
              "      <td>#vaccine\\n3/6/22 \\nFun event for kids &amp;amp; they protect health. \\nhttps://t.co/PZok4h9Akh</td>\n",
              "      <td>Reviews1P</td>\n",
              "      <td>Nashville, TN</td>\n",
              "      <td>&lt;bound method User.followers of User(_api=&lt;tweepy.api.API object at 0x7f6e838a4290&gt;, _json={'id': 1355583818107932682, 'id_str': '1355583818107932682', 'name': 'PReportReviews1', 'screen_name': 'Reviews1P', 'location': 'Nashville, TN', 'description': 'Reviewing the 🌎.\\nLiving W/Rare Blood Cancer &amp; CKD. WWJD? LGBTQI &amp; Child Abuse Survivor/\\nProud Democrat for 20 Years 🌊#TheResistance \\n$PoppenReport', 'url': 'https://t.co/M9VKEyooDL', 'entities': {'url': {'urls': [{'url': 'https://t.co/M9VKEyooDL', 'expanded_url': 'http://poppenreport.com', 'display_url': 'poppenreport.com', 'indices': [0, 23]}]}, 'description': {'urls': []}}, 'protected': False, 'followers_count': 93, 'friends_count': 101, 'listed_count': 1, 'created_at': 'Sat Jan 30 18:29:17 +0000 2021', 'favourites_count': 2544, 'utc...</td>\n",
              "    </tr>\n",
              "    <tr>\n",
              "      <th>10</th>\n",
              "      <td>None</td>\n",
              "      <td>@PierrePoilievre We smile at each other in the eyes:\\nCanada has become a world leader when it comes to share of pop… https://t.co/TFJRUvIoR3</td>\n",
              "      <td>FloraLan10</td>\n",
              "      <td></td>\n",
              "      <td>&lt;bound method User.followers of User(_api=&lt;tweepy.api.API object at 0x7f6e838a4290&gt;, _json={'id': 1069665257243713541, 'id_str': '1069665257243713541', 'name': 'Flora Lan', 'screen_name': 'FloraLan10', 'location': '', 'description': \"I'm a Taichi  and Yoga instructor.\\nI love the world and nature and people. I wish human and animal live in the peaceful and happy world !\", 'url': None, 'entities': {'description': {'urls': []}}, 'protected': False, 'followers_count': 2723, 'friends_count': 5003, 'listed_count': 11, 'created_at': 'Mon Dec 03 18:50:45 +0000 2018', 'favourites_count': 117607, 'utc_offset': None, 'time_zone': None, 'geo_enabled': False, 'verified': False, 'statuses_count': 67050, 'lang': None, 'contributors_enabled': False, 'is_translator': False, 'is_translation_enabled': F...</td>\n",
              "    </tr>\n",
              "    <tr>\n",
              "      <th>11</th>\n",
              "      <td>None</td>\n",
              "      <td>RT @Ptbohealth: Walk-ins are available at the Healthy Planet Arena this week for residents 5+. \\n\\nFind more vaccine clinics at https://t.co/…</td>\n",
              "      <td>Maryorpen1</td>\n",
              "      <td></td>\n",
              "      <td>&lt;bound method User.followers of User(_api=&lt;tweepy.api.API object at 0x7f6e838a4290&gt;, _json={'id': 777318701364281344, 'id_str': '777318701364281344', 'name': 'Mary orpen', 'screen_name': 'Maryorpen1', 'location': '', 'description': '', 'url': None, 'entities': {'description': {'urls': []}}, 'protected': False, 'followers_count': 52, 'friends_count': 159, 'listed_count': 1, 'created_at': 'Sun Sep 18 01:29:55 +0000 2016', 'favourites_count': 8632, 'utc_offset': None, 'time_zone': None, 'geo_enabled': False, 'verified': False, 'statuses_count': 5004, 'lang': None, 'contributors_enabled': False, 'is_translator': False, 'is_translation_enabled': False, 'profile_background_color': 'F5F8FA', 'profile_background_image_url': None, 'profile_background_image_url_https': None, 'profile_background_...</td>\n",
              "    </tr>\n",
              "    <tr>\n",
              "      <th>12</th>\n",
              "      <td>None</td>\n",
              "      <td>RT @EricTopol: Good\\nhttps://t.co/yWTIB39jQM @joewalkerWSJ @Novavax https://t.co/X7GGgtPmGB</td>\n",
              "      <td>jsinvr</td>\n",
              "      <td></td>\n",
              "      <td>&lt;bound method User.followers of User(_api=&lt;tweepy.api.API object at 0x7f6e838a4290&gt;, _json={'id': 3303605923, 'id_str': '3303605923', 'name': 'Teach Critical Thinking', 'screen_name': 'jsinvr', 'location': '', 'description': '#cdnpoli #uspoli #ukpoli #Climate\\n\\n#DeleteFB\\n\\n#CovidIsAirborne     \\n\\n#ItWasNeverAboutVaccines🚛 \\n\\n#ConvoysOfHate     \\n\\n🇨🇦🇺🇸🇬🇧 💉😷\\n\\n🇺🇦', 'url': None, 'entities': {'description': {'urls': []}}, 'protected': False, 'followers_count': 3704, 'friends_count': 4876, 'listed_count': 125, 'created_at': 'Sat Aug 01 17:38:47 +0000 2015', 'favourites_count': 389306, 'utc_offset': None, 'time_zone': None, 'geo_enabled': True, 'verified': False, 'statuses_count': 392230, 'lang': None, 'contributors_enabled': False, 'is_translator': False, 'is_translation_enabled': Fal...</td>\n",
              "    </tr>\n",
              "    <tr>\n",
              "      <th>13</th>\n",
              "      <td>None</td>\n",
              "      <td>RT @7NewsAustralia: Vaccine mandates have been scrapped for South Australia Police employees, clearing the way for officers who refused to…</td>\n",
              "      <td>Andrewyeahnah</td>\n",
              "      <td></td>\n",
              "      <td>&lt;bound method User.followers of User(_api=&lt;tweepy.api.API object at 0x7f6e838a4290&gt;, _json={'id': 1194379030864117760, 'id_str': '1194379030864117760', 'name': 'Andrew', 'screen_name': 'Andrewyeahnah', 'location': '', 'description': '', 'url': None, 'entities': {'description': {'urls': []}}, 'protected': False, 'followers_count': 833, 'friends_count': 1186, 'listed_count': 0, 'created_at': 'Tue Nov 12 22:20:44 +0000 2019', 'favourites_count': 80656, 'utc_offset': None, 'time_zone': None, 'geo_enabled': True, 'verified': False, 'statuses_count': 108571, 'lang': None, 'contributors_enabled': False, 'is_translator': False, 'is_translation_enabled': False, 'profile_background_color': 'F5F8FA', 'profile_background_image_url': None, 'profile_background_image_url_https': None, 'profile_backgr...</td>\n",
              "    </tr>\n",
              "    <tr>\n",
              "      <th>14</th>\n",
              "      <td>None</td>\n",
              "      <td>RT @7NewsAustralia: Vaccine mandates have been scrapped for South Australia Police employees, clearing the way for officers who refused to…</td>\n",
              "      <td>BoggyLuuuu</td>\n",
              "      <td></td>\n",
              "      <td>&lt;bound method User.followers of User(_api=&lt;tweepy.api.API object at 0x7f6e838a4290&gt;, _json={'id': 286973799, 'id_str': '286973799', 'name': 'Boggyluu', 'screen_name': 'BoggyLuuuu', 'location': '', 'description': '', 'url': None, 'entities': {'description': {'urls': []}}, 'protected': False, 'followers_count': 862, 'friends_count': 2451, 'listed_count': 68, 'created_at': 'Sun Apr 24 02:32:48 +0000 2011', 'favourites_count': 11895, 'utc_offset': None, 'time_zone': None, 'geo_enabled': True, 'verified': False, 'statuses_count': 46716, 'lang': None, 'contributors_enabled': False, 'is_translator': False, 'is_translation_enabled': False, 'profile_background_color': 'C0DEED', 'profile_background_image_url': 'http://abs.twimg.com/images/themes/theme1/bg.png', 'profile_background_image_url_http...</td>\n",
              "    </tr>\n",
              "    <tr>\n",
              "      <th>15</th>\n",
              "      <td>None</td>\n",
              "      <td>Freedom convoy organizer James Bauder announces plans for large convoy to #Victoria to fight vaccine mandates… https://t.co/HnI2IjL1up</td>\n",
              "      <td>charliesmithvcr</td>\n",
              "      <td>Vancouver, B.C.</td>\n",
              "      <td>&lt;bound method User.followers of User(_api=&lt;tweepy.api.API object at 0x7f6e838a4290&gt;, _json={'id': 18559001, 'id_str': '18559001', 'name': 'Charlie Smith', 'screen_name': 'charliesmithvcr', 'location': 'Vancouver, B.C.', 'description': \"Editor, Georgia Straight. he/him. Let's not turn our eyes away from impact of rising carbon dioxide emissions or Russian aggression against Ukraine.\", 'url': 'https://t.co/1dKS8ZZQkf', 'entities': {'url': {'urls': [{'url': 'https://t.co/1dKS8ZZQkf', 'expanded_url': 'http://www.straight.com/', 'display_url': 'straight.com', 'indices': [0, 23]}]}, 'description': {'urls': []}}, 'protected': False, 'followers_count': 19152, 'friends_count': 7922, 'listed_count': 556, 'created_at': 'Fri Jan 02 18:48:30 +0000 2009', 'favourites_count': 561, 'utc_offset': None,...</td>\n",
              "    </tr>\n",
              "    <tr>\n",
              "      <th>16</th>\n",
              "      <td>None</td>\n",
              "      <td>Freedom convoy organizer James Bauder announces plans for large convoy to Victoria to fight vaccine mandates https://t.co/L8wBbLIwbf</td>\n",
              "      <td>georgiastraight</td>\n",
              "      <td>Vancouver</td>\n",
              "      <td>&lt;bound method User.followers of User(_api=&lt;tweepy.api.API object at 0x7f6e838a4290&gt;, _json={'id': 14604658, 'id_str': '14604658', 'name': 'Georgia Straight', 'screen_name': 'georgiastraight', 'location': 'Vancouver', 'description': \"Vancouver's news, arts, and entertainment source. Find more of our Twitter feeds at https://t.co/rhHQLIBGJU\", 'url': 'https://t.co/KRTaglGQbn', 'entities': {'url': {'urls': [{'url': 'https://t.co/KRTaglGQbn', 'expanded_url': 'https://www.straight.com', 'display_url': 'straight.com', 'indices': [0, 23]}]}, 'description': {'urls': [{'url': 'https://t.co/rhHQLIBGJU', 'expanded_url': 'http://straight.com/twitter', 'display_url': 'straight.com/twitter', 'indices': [84, 107]}]}}, 'protected': False, 'followers_count': 148513, 'friends_count': 11357, 'listed_count...</td>\n",
              "    </tr>\n",
              "    <tr>\n",
              "      <th>17</th>\n",
              "      <td>None</td>\n",
              "      <td>RT @BreannaMorello: Last month, I resigned from my role as a producer for Fox Corp after they decided to comply with the NYC mayor’s vaccin…</td>\n",
              "      <td>wynburn1Wynburn</td>\n",
              "      <td>Pecan Plantation, TX</td>\n",
              "      <td>&lt;bound method User.followers of User(_api=&lt;tweepy.api.API object at 0x7f6e838a4290&gt;, _json={'id': 1452445170, 'id_str': '1452445170', 'name': 'wynburn', 'screen_name': 'wynburn1Wynburn', 'location': 'Pecan Plantation, TX', 'description': 'retired. attorney', 'url': None, 'entities': {'description': {'urls': []}}, 'protected': False, 'followers_count': 610, 'friends_count': 435, 'listed_count': 0, 'created_at': 'Thu May 23 20:32:24 +0000 2013', 'favourites_count': 167481, 'utc_offset': None, 'time_zone': None, 'geo_enabled': False, 'verified': False, 'statuses_count': 72763, 'lang': None, 'contributors_enabled': False, 'is_translator': False, 'is_translation_enabled': False, 'profile_background_color': 'C0DEED', 'profile_background_image_url': 'http://abs.twimg.com/images/themes/theme1/...</td>\n",
              "    </tr>\n",
              "    <tr>\n",
              "      <th>18</th>\n",
              "      <td>None</td>\n",
              "      <td>@ms_anthropy @LauraThoman2 @AmandaL91529637 @andrewbostom \"The CDC recommends that people who have already had COVI… https://t.co/xGhCWGvMWK</td>\n",
              "      <td>BorisDirnbach</td>\n",
              "      <td>Pennsylvania, USA</td>\n",
              "      <td>&lt;bound method User.followers of User(_api=&lt;tweepy.api.API object at 0x7f6e838a4290&gt;, _json={'id': 4025531193, 'id_str': '4025531193', 'name': 'Bo Dirnbach w PDA fighting for #HR1976, #M4A.', 'screen_name': 'BorisDirnbach', 'location': 'Pennsylvania, USA', 'description': 'Has your rep cosponsored #HR1796? If not, please call/email &amp; urge them to sign on. Find out here, https://t.co/YZ7Q6bwdRr\\nHT @pdamerica, https://t.co/Cjc6zuy9QJ @PDAFox.', 'url': 'https://t.co/capXVW6BUo', 'entities': {'url': {'urls': [{'url': 'https://t.co/capXVW6BUo', 'expanded_url': 'https://www.facebook.com/boris.dirnbach', 'display_url': 'facebook.com/boris.dirnbach', 'indices': [0, 23]}]}, 'description': {'urls': [{'url': 'https://t.co/YZ7Q6bwdRr', 'expanded_url': 'http://bit.ly/32boT28', 'display_url': 'bit.ly...</td>\n",
              "    </tr>\n",
              "    <tr>\n",
              "      <th>19</th>\n",
              "      <td>None</td>\n",
              "      <td>Covid-19 vaccine: More than 1500 people affected by incorrect storage https://t.co/QCs82LtHXq</td>\n",
              "      <td>usasharenews</td>\n",
              "      <td>United States</td>\n",
              "      <td>&lt;bound method User.followers of User(_api=&lt;tweepy.api.API object at 0x7f6e838a4290&gt;, _json={'id': 1476165846057644034, 'id_str': '1476165846057644034', 'name': 'usa share news', 'screen_name': 'usasharenews', 'location': 'United States', 'description': 'usa share news', 'url': 'https://t.co/tLRxVqaFDU', 'entities': {'url': {'urls': [{'url': 'https://t.co/tLRxVqaFDU', 'expanded_url': 'https://usasharenews.com', 'display_url': 'usasharenews.com', 'indices': [0, 23]}]}, 'description': {'urls': []}}, 'protected': False, 'followers_count': 182, 'friends_count': 1043, 'listed_count': 0, 'created_at': 'Wed Dec 29 12:19:23 +0000 2021', 'favourites_count': 0, 'utc_offset': None, 'time_zone': None, 'geo_enabled': False, 'verified': False, 'statuses_count': 55273, 'lang': None, 'contributors_enab...</td>\n",
              "    </tr>\n",
              "  </tbody>\n",
              "</table>\n",
              "</div>\n",
              "      <button class=\"colab-df-convert\" onclick=\"convertToInteractive('df-331f4480-3f3f-417c-b7b1-bdf8a635643b')\"\n",
              "              title=\"Convert this dataframe to an interactive table.\"\n",
              "              style=\"display:none;\">\n",
              "        \n",
              "  <svg xmlns=\"http://www.w3.org/2000/svg\" height=\"24px\"viewBox=\"0 0 24 24\"\n",
              "       width=\"24px\">\n",
              "    <path d=\"M0 0h24v24H0V0z\" fill=\"none\"/>\n",
              "    <path d=\"M18.56 5.44l.94 2.06.94-2.06 2.06-.94-2.06-.94-.94-2.06-.94 2.06-2.06.94zm-11 1L8.5 8.5l.94-2.06 2.06-.94-2.06-.94L8.5 2.5l-.94 2.06-2.06.94zm10 10l.94 2.06.94-2.06 2.06-.94-2.06-.94-.94-2.06-.94 2.06-2.06.94z\"/><path d=\"M17.41 7.96l-1.37-1.37c-.4-.4-.92-.59-1.43-.59-.52 0-1.04.2-1.43.59L10.3 9.45l-7.72 7.72c-.78.78-.78 2.05 0 2.83L4 21.41c.39.39.9.59 1.41.59.51 0 1.02-.2 1.41-.59l7.78-7.78 2.81-2.81c.8-.78.8-2.07 0-2.86zM5.41 20L4 18.59l7.72-7.72 1.47 1.35L5.41 20z\"/>\n",
              "  </svg>\n",
              "      </button>\n",
              "      \n",
              "  <style>\n",
              "    .colab-df-container {\n",
              "      display:flex;\n",
              "      flex-wrap:wrap;\n",
              "      gap: 12px;\n",
              "    }\n",
              "\n",
              "    .colab-df-convert {\n",
              "      background-color: #E8F0FE;\n",
              "      border: none;\n",
              "      border-radius: 50%;\n",
              "      cursor: pointer;\n",
              "      display: none;\n",
              "      fill: #1967D2;\n",
              "      height: 32px;\n",
              "      padding: 0 0 0 0;\n",
              "      width: 32px;\n",
              "    }\n",
              "\n",
              "    .colab-df-convert:hover {\n",
              "      background-color: #E2EBFA;\n",
              "      box-shadow: 0px 1px 2px rgba(60, 64, 67, 0.3), 0px 1px 3px 1px rgba(60, 64, 67, 0.15);\n",
              "      fill: #174EA6;\n",
              "    }\n",
              "\n",
              "    [theme=dark] .colab-df-convert {\n",
              "      background-color: #3B4455;\n",
              "      fill: #D2E3FC;\n",
              "    }\n",
              "\n",
              "    [theme=dark] .colab-df-convert:hover {\n",
              "      background-color: #434B5C;\n",
              "      box-shadow: 0px 1px 3px 1px rgba(0, 0, 0, 0.15);\n",
              "      filter: drop-shadow(0px 1px 2px rgba(0, 0, 0, 0.3));\n",
              "      fill: #FFFFFF;\n",
              "    }\n",
              "  </style>\n",
              "\n",
              "      <script>\n",
              "        const buttonEl =\n",
              "          document.querySelector('#df-331f4480-3f3f-417c-b7b1-bdf8a635643b button.colab-df-convert');\n",
              "        buttonEl.style.display =\n",
              "          google.colab.kernel.accessAllowed ? 'block' : 'none';\n",
              "\n",
              "        async function convertToInteractive(key) {\n",
              "          const element = document.querySelector('#df-331f4480-3f3f-417c-b7b1-bdf8a635643b');\n",
              "          const dataTable =\n",
              "            await google.colab.kernel.invokeFunction('convertToInteractive',\n",
              "                                                     [key], {});\n",
              "          if (!dataTable) return;\n",
              "\n",
              "          const docLinkHtml = 'Like what you see? Visit the ' +\n",
              "            '<a target=\"_blank\" href=https://colab.research.google.com/notebooks/data_table.ipynb>data table notebook</a>'\n",
              "            + ' to learn more about interactive tables.';\n",
              "          element.innerHTML = '';\n",
              "          dataTable['output_type'] = 'display_data';\n",
              "          await google.colab.output.renderOutput(dataTable, element);\n",
              "          const docLink = document.createElement('div');\n",
              "          docLink.innerHTML = docLinkHtml;\n",
              "          element.appendChild(docLink);\n",
              "        }\n",
              "      </script>\n",
              "    </div>\n",
              "  </div>\n",
              "  "
            ],
            "text/plain": [
              "     geo  \\\n",
              "0   None   \n",
              "1   None   \n",
              "2   None   \n",
              "3   None   \n",
              "4   None   \n",
              "5   None   \n",
              "6   None   \n",
              "7   None   \n",
              "8   None   \n",
              "9   None   \n",
              "10  None   \n",
              "11  None   \n",
              "12  None   \n",
              "13  None   \n",
              "14  None   \n",
              "15  None   \n",
              "16  None   \n",
              "17  None   \n",
              "18  None   \n",
              "19  None   \n",
              "\n",
              "                                                                                                                                              text  \\\n",
              "0                                        RT @HongliKong: Please let us know the death toll by so called Covid-19 vaccine ? https://t.co/qhBfWASV2Y   \n",
              "1     RT @McMasterU: \"Health-care providers, public health organizations and community leaders should be a positive force in vaccination.\" Zain C…   \n",
              "2    RT @StrategicThghts: #bcpoli Lock him up!\\nFreedom convoy organizer James Bauder announces plans for large convoy to Victoria to fight vacci…   \n",
              "3                                               Pfizer’s COVID-19 Vaccine Goes Into Liver Cells and Is Converted to DNA !\\nhttps://t.co/hH2CZPaFok   \n",
              "4     RT @BreannaMorello: Last month, I resigned from my role as a producer for Fox Corp after they decided to comply with the NYC mayor’s vaccin…   \n",
              "5      RT @7NewsAustralia: Vaccine mandates have been scrapped for South Australia Police employees, clearing the way for officers who refused to…   \n",
              "6    #bcpoli Lock him up!\\nFreedom convoy organizer James Bauder announces plans for large convoy to Victoria to fight va… https://t.co/y9WRGlGt6h   \n",
              "7                 @LaughlandMorgan @CatsLoveBoxes @TierraHenson @sammk1964 @JCDeardeuff @moy_barry @F250Roush @LizaGirl63… https://t.co/QaNYkd6sST   \n",
              "8     RT @NHS_Lothian: If you’re aged 16 or 17 years and have had your first and second dose of the COVID-19 vaccine, you should now book your bo…   \n",
              "9                                                       #vaccine\\n3/6/22 \\nFun event for kids &amp; they protect health. \\nhttps://t.co/PZok4h9Akh   \n",
              "10   @PierrePoilievre We smile at each other in the eyes:\\nCanada has become a world leader when it comes to share of pop… https://t.co/TFJRUvIoR3   \n",
              "11  RT @Ptbohealth: Walk-ins are available at the Healthy Planet Arena this week for residents 5+. \\n\\nFind more vaccine clinics at https://t.co/…   \n",
              "12                                                     RT @EricTopol: Good\\nhttps://t.co/yWTIB39jQM @joewalkerWSJ @Novavax https://t.co/X7GGgtPmGB   \n",
              "13     RT @7NewsAustralia: Vaccine mandates have been scrapped for South Australia Police employees, clearing the way for officers who refused to…   \n",
              "14     RT @7NewsAustralia: Vaccine mandates have been scrapped for South Australia Police employees, clearing the way for officers who refused to…   \n",
              "15          Freedom convoy organizer James Bauder announces plans for large convoy to #Victoria to fight vaccine mandates… https://t.co/HnI2IjL1up   \n",
              "16            Freedom convoy organizer James Bauder announces plans for large convoy to Victoria to fight vaccine mandates https://t.co/L8wBbLIwbf   \n",
              "17    RT @BreannaMorello: Last month, I resigned from my role as a producer for Fox Corp after they decided to comply with the NYC mayor’s vaccin…   \n",
              "18    @ms_anthropy @LauraThoman2 @AmandaL91529637 @andrewbostom \"The CDC recommends that people who have already had COVI… https://t.co/xGhCWGvMWK   \n",
              "19                                                   Covid-19 vaccine: More than 1500 people affected by incorrect storage https://t.co/QCs82LtHXq   \n",
              "\n",
              "               user              location  \\\n",
              "0           vwengui       Bulla, Victoria   \n",
              "1            kargor               Toronto   \n",
              "2      PeterKellyBC  Vancouver Island, BC   \n",
              "3    MarcelDugenoux                         \n",
              "4       BeverlyGreg           winnipeg mb   \n",
              "5    sabthehorrible                         \n",
              "6   StrategicThghts   North Vancouver, BC   \n",
              "7    Chris_F_Carson             Australia   \n",
              "8         BAMERECAP   Edinburgh, Scotland   \n",
              "9         Reviews1P         Nashville, TN   \n",
              "10       FloraLan10                         \n",
              "11       Maryorpen1                         \n",
              "12           jsinvr                         \n",
              "13    Andrewyeahnah                         \n",
              "14       BoggyLuuuu                         \n",
              "15  charliesmithvcr       Vancouver, B.C.   \n",
              "16  georgiastraight             Vancouver   \n",
              "17  wynburn1Wynburn  Pecan Plantation, TX   \n",
              "18    BorisDirnbach     Pennsylvania, USA   \n",
              "19     usasharenews         United States   \n",
              "\n",
              "                                                                                                                                                                                                                                                                                                                                                                                                                                                                                                                                                                                                                                                                                                                                                                                                                          followers  \n",
              "0   <bound method User.followers of User(_api=<tweepy.api.API object at 0x7f6e838a4290>, _json={'id': 913689857246953472, 'id_str': '913689857246953472', 'name': '不老仙（澳喜特战旅）', 'screen_name': 'vwengui', 'location': 'Bulla, Victoria', 'description': '反共药方：戒急用忍，步步为营 Hydroxychloroquine 挺郭不仅仅是权力更是义务。 反共需要实力，更要保护好自己和家人的安全。 “美国不是世界警察”--唐纳德·约翰·特朗普 无奈的是身体和力量，强大的是意志和信仰；只有坚持不灭的信仰，才能创造不朽的传奇。（珍珠港）', 'url': None, 'entities': {'description': {'urls': []}}, 'protected': False, 'followers_count': 242, 'friends_count': 393, 'listed_count': 3, 'created_at': 'Fri Sep 29 09:00:12 +0000 2017', 'favourites_count': 1071, 'utc_offset': None, 'time_zone': None, 'geo_enabled': False, 'verified': False, 'statuses_count': 20955, 'lang': None, 'contributors_enabled': False, 'is_translator': False, 'is_translation_enabl...  \n",
              "1   <bound method User.followers of User(_api=<tweepy.api.API object at 0x7f6e838a4290>, _json={'id': 22709612, 'id_str': '22709612', 'name': 'karen gordon🇺🇦🇺🇦🇨🇦', 'screen_name': 'kargor', 'location': 'Toronto', 'description': 'Movies :@original-cin.ca @TFCA @BFCA @AWFJ. Writer/story editor Documentary tv/ GS & IMAX, Strategic Communications/Marketing Content Creator/\\n Neurodivergent', 'url': None, 'entities': {'description': {'urls': []}}, 'protected': False, 'followers_count': 2143, 'friends_count': 5001, 'listed_count': 50, 'created_at': 'Wed Mar 04 00:56:04 +0000 2009', 'favourites_count': 50272, 'utc_offset': None, 'time_zone': None, 'geo_enabled': True, 'verified': False, 'statuses_count': 32118, 'lang': None, 'contributors_enabled': False, 'is_translator': False, 'is_translation_en...  \n",
              "2   <bound method User.followers of User(_api=<tweepy.api.API object at 0x7f6e838a4290>, _json={'id': 16135612, 'id_str': '16135612', 'name': 'Peter Kelly 🇺🇦🇨🇦', 'screen_name': 'PeterKellyBC', 'location': 'Vancouver Island, BC', 'description': \"Parent. Political. Ally 🏳️\\u200d🌈🏳️\\u200d⚧️. Mostly partisan.\\nFollows, Likes/Retweets ≠ endorsement. Don't add me to your lists. He/Him. genX #getvaxxednow\", 'url': 'https://t.co/e2MkECRHZo', 'entities': {'url': {'urls': [{'url': 'https://t.co/e2MkECRHZo', 'expanded_url': 'https://theviewfrompete.com', 'display_url': 'theviewfrompete.com', 'indices': [0, 23]}]}, 'description': {'urls': []}}, 'protected': False, 'followers_count': 2818, 'friends_count': 2817, 'listed_count': 62, 'created_at': 'Thu Sep 04 21:26:35 +0000 2008', 'favourites_count': 408...  \n",
              "3   <bound method User.followers of User(_api=<tweepy.api.API object at 0x7f6e838a4290>, _json={'id': 724904563166302208, 'id_str': '724904563166302208', 'name': '\\U0001f7e5 Marcel Dugenoux', 'screen_name': 'MarcelDugenoux', 'location': '', 'description': 'Contre la concurrence et la domination\\nContre le pouvoir patriarcal de classe\\nContre la défausse des responsabilités sur les carriéristes politiques', 'url': None, 'entities': {'description': {'urls': []}}, 'protected': False, 'followers_count': 163, 'friends_count': 29, 'listed_count': 0, 'created_at': 'Tue Apr 26 10:14:50 +0000 2016', 'favourites_count': 24514, 'utc_offset': None, 'time_zone': None, 'geo_enabled': False, 'verified': False, 'statuses_count': 10936, 'lang': None, 'contributors_enabled': False, 'is_translator': False, '...  \n",
              "4   <bound method User.followers of User(_api=<tweepy.api.API object at 0x7f6e838a4290>, _json={'id': 1350563185, 'id_str': '1350563185', 'name': '52ndstreet', 'screen_name': 'BeverlyGreg', 'location': 'winnipeg mb', 'description': \"I enjoy my family, cooking, social media, and watching the news. life wouldn't be exciting without Music, this makes the world go around. Movies add richness..\", 'url': None, 'entities': {'description': {'urls': []}}, 'protected': False, 'followers_count': 575, 'friends_count': 517, 'listed_count': 22, 'created_at': 'Sun Apr 14 00:10:44 +0000 2013', 'favourites_count': 112418, 'utc_offset': None, 'time_zone': None, 'geo_enabled': True, 'verified': False, 'statuses_count': 12917, 'lang': None, 'contributors_enabled': False, 'is_translator': False, 'is_translatio...  \n",
              "5   <bound method User.followers of User(_api=<tweepy.api.API object at 0x7f6e838a4290>, _json={'id': 2586841758, 'id_str': '2586841758', 'name': 'Sat Stacker ∞/21M', 'screen_name': 'sabthehorrible', 'location': '', 'description': '#bitcoin', 'url': None, 'entities': {'description': {'urls': []}}, 'protected': False, 'followers_count': 568, 'friends_count': 1029, 'listed_count': 16, 'created_at': 'Wed Jun 25 04:34:24 +0000 2014', 'favourites_count': 81450, 'utc_offset': None, 'time_zone': None, 'geo_enabled': False, 'verified': False, 'statuses_count': 19092, 'lang': None, 'contributors_enabled': False, 'is_translator': False, 'is_translation_enabled': False, 'profile_background_color': 'C0DEED', 'profile_background_image_url': 'http://abs.twimg.com/images/themes/theme1/bg.png', 'profile_b...  \n",
              "6   <bound method User.followers of User(_api=<tweepy.api.API object at 0x7f6e838a4290>, _json={'id': 207612347, 'id_str': '207612347', 'name': 'David Schreck', 'screen_name': 'StrategicThghts', 'location': 'North Vancouver, BC', 'description': 'Retired economist and politician, active political pundit.', 'url': 'http://t.co/kfVb4AivRq', 'entities': {'url': {'urls': [{'url': 'http://t.co/kfVb4AivRq', 'expanded_url': 'http://www.StrategicThoughts.com', 'display_url': 'StrategicThoughts.com', 'indices': [0, 22]}]}, 'description': {'urls': []}}, 'protected': False, 'followers_count': 5389, 'friends_count': 1366, 'listed_count': 167, 'created_at': 'Mon Oct 25 17:33:13 +0000 2010', 'favourites_count': 193, 'utc_offset': None, 'time_zone': None, 'geo_enabled': True, 'verified': False, 'statuses_...  \n",
              "7   <bound method User.followers of User(_api=<tweepy.api.API object at 0x7f6e838a4290>, _json={'id': 3178688418, 'id_str': '3178688418', 'name': 'Christine Carson', 'screen_name': 'Chris_F_Carson', 'location': 'Australia', 'description': 'microbiologist phd\\nscience communicator\\npassionate about research funding\\nviews very much my own', 'url': None, 'entities': {'description': {'urls': []}}, 'protected': False, 'followers_count': 558, 'friends_count': 525, 'listed_count': 13, 'created_at': 'Wed Apr 29 01:39:14 +0000 2015', 'favourites_count': 7731, 'utc_offset': None, 'time_zone': None, 'geo_enabled': False, 'verified': False, 'statuses_count': 41243, 'lang': None, 'contributors_enabled': False, 'is_translator': False, 'is_translation_enabled': False, 'profile_background_color': 'C0DEED...  \n",
              "8   <bound method User.followers of User(_api=<tweepy.api.API object at 0x7f6e838a4290>, _json={'id': 1442211628309569536, 'id_str': '1442211628309569536', 'name': 'ELREC BAME RECAP', 'screen_name': 'BAMERECAP', 'location': 'Edinburgh, Scotland', 'description': 'Working towards restoring the livelihoods of BAME communities affected by Covid-19 in Edinburgh & the Lothians #BAMERECAP . A project of @ELRECUK', 'url': None, 'entities': {'description': {'urls': []}}, 'protected': False, 'followers_count': 18, 'friends_count': 54, 'listed_count': 0, 'created_at': 'Sun Sep 26 19:37:24 +0000 2021', 'favourites_count': 41, 'utc_offset': None, 'time_zone': None, 'geo_enabled': False, 'verified': False, 'statuses_count': 27, 'lang': None, 'contributors_enabled': False, 'is_translator': False, 'is_tra...  \n",
              "9   <bound method User.followers of User(_api=<tweepy.api.API object at 0x7f6e838a4290>, _json={'id': 1355583818107932682, 'id_str': '1355583818107932682', 'name': 'PReportReviews1', 'screen_name': 'Reviews1P', 'location': 'Nashville, TN', 'description': 'Reviewing the 🌎.\\nLiving W/Rare Blood Cancer & CKD. WWJD? LGBTQI & Child Abuse Survivor/\\nProud Democrat for 20 Years 🌊#TheResistance \\n$PoppenReport', 'url': 'https://t.co/M9VKEyooDL', 'entities': {'url': {'urls': [{'url': 'https://t.co/M9VKEyooDL', 'expanded_url': 'http://poppenreport.com', 'display_url': 'poppenreport.com', 'indices': [0, 23]}]}, 'description': {'urls': []}}, 'protected': False, 'followers_count': 93, 'friends_count': 101, 'listed_count': 1, 'created_at': 'Sat Jan 30 18:29:17 +0000 2021', 'favourites_count': 2544, 'utc...  \n",
              "10  <bound method User.followers of User(_api=<tweepy.api.API object at 0x7f6e838a4290>, _json={'id': 1069665257243713541, 'id_str': '1069665257243713541', 'name': 'Flora Lan', 'screen_name': 'FloraLan10', 'location': '', 'description': \"I'm a Taichi  and Yoga instructor.\\nI love the world and nature and people. I wish human and animal live in the peaceful and happy world !\", 'url': None, 'entities': {'description': {'urls': []}}, 'protected': False, 'followers_count': 2723, 'friends_count': 5003, 'listed_count': 11, 'created_at': 'Mon Dec 03 18:50:45 +0000 2018', 'favourites_count': 117607, 'utc_offset': None, 'time_zone': None, 'geo_enabled': False, 'verified': False, 'statuses_count': 67050, 'lang': None, 'contributors_enabled': False, 'is_translator': False, 'is_translation_enabled': F...  \n",
              "11  <bound method User.followers of User(_api=<tweepy.api.API object at 0x7f6e838a4290>, _json={'id': 777318701364281344, 'id_str': '777318701364281344', 'name': 'Mary orpen', 'screen_name': 'Maryorpen1', 'location': '', 'description': '', 'url': None, 'entities': {'description': {'urls': []}}, 'protected': False, 'followers_count': 52, 'friends_count': 159, 'listed_count': 1, 'created_at': 'Sun Sep 18 01:29:55 +0000 2016', 'favourites_count': 8632, 'utc_offset': None, 'time_zone': None, 'geo_enabled': False, 'verified': False, 'statuses_count': 5004, 'lang': None, 'contributors_enabled': False, 'is_translator': False, 'is_translation_enabled': False, 'profile_background_color': 'F5F8FA', 'profile_background_image_url': None, 'profile_background_image_url_https': None, 'profile_background_...  \n",
              "12  <bound method User.followers of User(_api=<tweepy.api.API object at 0x7f6e838a4290>, _json={'id': 3303605923, 'id_str': '3303605923', 'name': 'Teach Critical Thinking', 'screen_name': 'jsinvr', 'location': '', 'description': '#cdnpoli #uspoli #ukpoli #Climate\\n\\n#DeleteFB\\n\\n#CovidIsAirborne     \\n\\n#ItWasNeverAboutVaccines🚛 \\n\\n#ConvoysOfHate     \\n\\n🇨🇦🇺🇸🇬🇧 💉😷\\n\\n🇺🇦', 'url': None, 'entities': {'description': {'urls': []}}, 'protected': False, 'followers_count': 3704, 'friends_count': 4876, 'listed_count': 125, 'created_at': 'Sat Aug 01 17:38:47 +0000 2015', 'favourites_count': 389306, 'utc_offset': None, 'time_zone': None, 'geo_enabled': True, 'verified': False, 'statuses_count': 392230, 'lang': None, 'contributors_enabled': False, 'is_translator': False, 'is_translation_enabled': Fal...  \n",
              "13  <bound method User.followers of User(_api=<tweepy.api.API object at 0x7f6e838a4290>, _json={'id': 1194379030864117760, 'id_str': '1194379030864117760', 'name': 'Andrew', 'screen_name': 'Andrewyeahnah', 'location': '', 'description': '', 'url': None, 'entities': {'description': {'urls': []}}, 'protected': False, 'followers_count': 833, 'friends_count': 1186, 'listed_count': 0, 'created_at': 'Tue Nov 12 22:20:44 +0000 2019', 'favourites_count': 80656, 'utc_offset': None, 'time_zone': None, 'geo_enabled': True, 'verified': False, 'statuses_count': 108571, 'lang': None, 'contributors_enabled': False, 'is_translator': False, 'is_translation_enabled': False, 'profile_background_color': 'F5F8FA', 'profile_background_image_url': None, 'profile_background_image_url_https': None, 'profile_backgr...  \n",
              "14  <bound method User.followers of User(_api=<tweepy.api.API object at 0x7f6e838a4290>, _json={'id': 286973799, 'id_str': '286973799', 'name': 'Boggyluu', 'screen_name': 'BoggyLuuuu', 'location': '', 'description': '', 'url': None, 'entities': {'description': {'urls': []}}, 'protected': False, 'followers_count': 862, 'friends_count': 2451, 'listed_count': 68, 'created_at': 'Sun Apr 24 02:32:48 +0000 2011', 'favourites_count': 11895, 'utc_offset': None, 'time_zone': None, 'geo_enabled': True, 'verified': False, 'statuses_count': 46716, 'lang': None, 'contributors_enabled': False, 'is_translator': False, 'is_translation_enabled': False, 'profile_background_color': 'C0DEED', 'profile_background_image_url': 'http://abs.twimg.com/images/themes/theme1/bg.png', 'profile_background_image_url_http...  \n",
              "15  <bound method User.followers of User(_api=<tweepy.api.API object at 0x7f6e838a4290>, _json={'id': 18559001, 'id_str': '18559001', 'name': 'Charlie Smith', 'screen_name': 'charliesmithvcr', 'location': 'Vancouver, B.C.', 'description': \"Editor, Georgia Straight. he/him. Let's not turn our eyes away from impact of rising carbon dioxide emissions or Russian aggression against Ukraine.\", 'url': 'https://t.co/1dKS8ZZQkf', 'entities': {'url': {'urls': [{'url': 'https://t.co/1dKS8ZZQkf', 'expanded_url': 'http://www.straight.com/', 'display_url': 'straight.com', 'indices': [0, 23]}]}, 'description': {'urls': []}}, 'protected': False, 'followers_count': 19152, 'friends_count': 7922, 'listed_count': 556, 'created_at': 'Fri Jan 02 18:48:30 +0000 2009', 'favourites_count': 561, 'utc_offset': None,...  \n",
              "16  <bound method User.followers of User(_api=<tweepy.api.API object at 0x7f6e838a4290>, _json={'id': 14604658, 'id_str': '14604658', 'name': 'Georgia Straight', 'screen_name': 'georgiastraight', 'location': 'Vancouver', 'description': \"Vancouver's news, arts, and entertainment source. Find more of our Twitter feeds at https://t.co/rhHQLIBGJU\", 'url': 'https://t.co/KRTaglGQbn', 'entities': {'url': {'urls': [{'url': 'https://t.co/KRTaglGQbn', 'expanded_url': 'https://www.straight.com', 'display_url': 'straight.com', 'indices': [0, 23]}]}, 'description': {'urls': [{'url': 'https://t.co/rhHQLIBGJU', 'expanded_url': 'http://straight.com/twitter', 'display_url': 'straight.com/twitter', 'indices': [84, 107]}]}}, 'protected': False, 'followers_count': 148513, 'friends_count': 11357, 'listed_count...  \n",
              "17  <bound method User.followers of User(_api=<tweepy.api.API object at 0x7f6e838a4290>, _json={'id': 1452445170, 'id_str': '1452445170', 'name': 'wynburn', 'screen_name': 'wynburn1Wynburn', 'location': 'Pecan Plantation, TX', 'description': 'retired. attorney', 'url': None, 'entities': {'description': {'urls': []}}, 'protected': False, 'followers_count': 610, 'friends_count': 435, 'listed_count': 0, 'created_at': 'Thu May 23 20:32:24 +0000 2013', 'favourites_count': 167481, 'utc_offset': None, 'time_zone': None, 'geo_enabled': False, 'verified': False, 'statuses_count': 72763, 'lang': None, 'contributors_enabled': False, 'is_translator': False, 'is_translation_enabled': False, 'profile_background_color': 'C0DEED', 'profile_background_image_url': 'http://abs.twimg.com/images/themes/theme1/...  \n",
              "18  <bound method User.followers of User(_api=<tweepy.api.API object at 0x7f6e838a4290>, _json={'id': 4025531193, 'id_str': '4025531193', 'name': 'Bo Dirnbach w PDA fighting for #HR1976, #M4A.', 'screen_name': 'BorisDirnbach', 'location': 'Pennsylvania, USA', 'description': 'Has your rep cosponsored #HR1796? If not, please call/email & urge them to sign on. Find out here, https://t.co/YZ7Q6bwdRr\\nHT @pdamerica, https://t.co/Cjc6zuy9QJ @PDAFox.', 'url': 'https://t.co/capXVW6BUo', 'entities': {'url': {'urls': [{'url': 'https://t.co/capXVW6BUo', 'expanded_url': 'https://www.facebook.com/boris.dirnbach', 'display_url': 'facebook.com/boris.dirnbach', 'indices': [0, 23]}]}, 'description': {'urls': [{'url': 'https://t.co/YZ7Q6bwdRr', 'expanded_url': 'http://bit.ly/32boT28', 'display_url': 'bit.ly...  \n",
              "19  <bound method User.followers of User(_api=<tweepy.api.API object at 0x7f6e838a4290>, _json={'id': 1476165846057644034, 'id_str': '1476165846057644034', 'name': 'usa share news', 'screen_name': 'usasharenews', 'location': 'United States', 'description': 'usa share news', 'url': 'https://t.co/tLRxVqaFDU', 'entities': {'url': {'urls': [{'url': 'https://t.co/tLRxVqaFDU', 'expanded_url': 'https://usasharenews.com', 'display_url': 'usasharenews.com', 'indices': [0, 23]}]}, 'description': {'urls': []}}, 'protected': False, 'followers_count': 182, 'friends_count': 1043, 'listed_count': 0, 'created_at': 'Wed Dec 29 12:19:23 +0000 2021', 'favourites_count': 0, 'utc_offset': None, 'time_zone': None, 'geo_enabled': False, 'verified': False, 'statuses_count': 55273, 'lang': None, 'contributors_enab...  "
            ]
          },
          "metadata": {},
          "execution_count": 29
        }
      ]
    },
    {
      "cell_type": "code",
      "source": [
        "tweet_df.to_csv(test_data.csv)"
      ],
      "metadata": {
        "id": "ZQuin7irhKox"
      },
      "execution_count": null,
      "outputs": []
    }
  ]
}
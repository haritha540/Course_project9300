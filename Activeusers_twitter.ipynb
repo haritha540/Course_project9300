{
  "nbformat": 4,
  "nbformat_minor": 0,
  "metadata": {
    "colab": {
      "name": "Activeusers_twitter.ipynb",
      "provenance": []
    },
    "kernelspec": {
      "name": "python3",
      "display_name": "Python 3"
    },
    "language_info": {
      "name": "python"
    }
  },
  "cells": [
    {
      "cell_type": "code",
      "execution_count": null,
      "metadata": {
        "id": "0rc9xdaTPnUd"
      },
      "outputs": [],
      "source": [
        "import pandas as pd\n",
        "import tweepy as tw"
      ]
    },
    {
      "cell_type": "code",
      "source": [
        "import configparser\n",
        "config=configparser.RawConfigParser()\n",
        "config.read(filenames='/content/twitter.txt')"
      ],
      "metadata": {
        "id": "UHse1VLtPqx1"
      },
      "execution_count": null,
      "outputs": []
    },
    {
      "cell_type": "code",
      "source": [
        "accesstoken=config.get('twitter','accesstoken')\n",
        "accesstokensecret=config.get('twitter','accesstokensecret')\n",
        "apikey=config.get('twitter','apikey')\n",
        "apisecretkey=config.get('twitter','apisecretkey')"
      ],
      "metadata": {
        "id": "0InqWZ9wPsyK"
      },
      "execution_count": null,
      "outputs": []
    },
    {
      "cell_type": "code",
      "source": [
        "auth=tw.OAuthHandler(apikey,apisecretkey)\n",
        "auth.set_access_token(accesstoken,accesstokensecret)\n",
        "api=tw.API(auth,wait_on_rate_limit=False,wait_on_rate_limit_notify=False)"
      ],
      "metadata": {
        "id": "c1ZiLzNaPxBw"
      },
      "execution_count": null,
      "outputs": []
    },
    {
      "cell_type": "code",
      "source": [
        "def twitter_is_alive(twitter_name):\n",
        "    try:\n",
        "        # I don't know how to check it\n",
        "        username=api.get_user(str(twitter_name))\n",
        "        return True\n",
        "    except:\n",
        "        return False"
      ],
      "metadata": {
        "id": "OGXLhtX0P19U"
      },
      "execution_count": null,
      "outputs": []
    },
    {
      "cell_type": "code",
      "source": [
        "df=pd.read_csv('/content/vax_tweets_sentiment.csv',nrows=3000)\n",
        "user=[k for k in df.user_name]\n"
      ],
      "metadata": {
        "id": "fKGDmPm0P4ui"
      },
      "execution_count": null,
      "outputs": []
    },
    {
      "cell_type": "code",
      "source": [
        "validids=[]\n",
        "for p in user:\n",
        "  test=twitter_is_alive(p)\n",
        "  if test:\n",
        "    validids.append(p)\n"
      ],
      "metadata": {
        "id": "54JUJD3QP84Y"
      },
      "execution_count": null,
      "outputs": []
    }
  ]
}